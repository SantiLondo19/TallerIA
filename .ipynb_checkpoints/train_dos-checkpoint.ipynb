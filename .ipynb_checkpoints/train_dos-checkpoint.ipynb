{
 "cells": [
  {
   "cell_type": "code",
   "execution_count": 1,
   "id": "03389b8e-6a40-4917-b59d-494c1cb99d32",
   "metadata": {},
   "outputs": [],
   "source": [
    "import os\n",
    "base_dir = r'C:\\Users\\lola1\\Downloads\\PetImages\\base_dir'\n",
    "train_dir = os.path.join(base_dir, 'train_dir')\n",
    "test_dir = os.path.join(base_dir, 'test_dir')\n",
    "validation_dir = os.path.join(base_dir, 'validation_dir')"
   ]
  },
  {
   "cell_type": "code",
   "execution_count": 2,
   "id": "43368699-945b-4de8-82fa-79b3d3eb43c9",
   "metadata": {},
   "outputs": [],
   "source": [
    "train_cats_dir = os.path.join(train_dir, 'train_cats_dir')\n",
    "train_dogs_dir = os.path.join(train_dir, 'train_dogs_dir')\n",
    "validation_cats_dir = os.path.join(validation_dir, 'validation_cats_dir')\n",
    "validation_dogs_dir = os.path.join(validation_dir, 'validation_dogs_dir')\n",
    "test_dogs_dir = os.path.join(test_dir, 'test_dogs_dir')\n",
    "test_cats_dir = os.path.join(test_dir, 'test_cats_dir')"
   ]
  },
  {
   "cell_type": "code",
   "execution_count": 3,
   "id": "b86d684c-e306-42fc-87aa-6a387531716a",
   "metadata": {},
   "outputs": [
    {
     "name": "stdout",
     "output_type": "stream",
     "text": [
      "Total gatos entrenamiento: 1000\n",
      "Total perros entrenamiento: 1000\n",
      "Total perros validacion: 500\n",
      "Total gatos validacion: 500\n",
      "Total perros test: 500\n",
      "Total gatos test: 500\n"
     ]
    }
   ],
   "source": [
    "print('Total gatos entrenamiento:', len(os.listdir(train_cats_dir)))\n",
    "print('Total perros entrenamiento:', len(os.listdir(train_dogs_dir)))\n",
    "print('Total perros validacion:', len(os.listdir(validation_dogs_dir)))\n",
    "print('Total gatos validacion:', len(os.listdir(validation_cats_dir)))\n",
    "print('Total perros test:', len(os.listdir(test_dogs_dir)))\n",
    "print('Total gatos test:', len(os.listdir(test_cats_dir)))\n"
   ]
  },
  {
   "cell_type": "code",
   "execution_count": null,
   "id": "4ba01aa8-845d-4899-8733-3ba51dfe75e5",
   "metadata": {},
   "outputs": [
    {
     "name": "stdout",
     "output_type": "stream",
     "text": [
      "Found 2000 images belonging to 2 classes.\n",
      "Found 1000 images belonging to 2 classes.\n",
      "Epoch 1/30\n",
      " 64/100 [==================>...........] - ETA: 11s - loss: 0.7058 - accuracy: 0.5102"
     ]
    }
   ],
   "source": [
    "from keras.preprocessing.image import ImageDataGenerator\n",
    "from keras.layers import Dropout\n",
    "from keras.models import Sequential\n",
    "from keras.layers import Conv2D, MaxPooling2D, Flatten, Dense\n",
    "\n",
    "# Crear un generador de datos con transformaciones aleatorias\n",
    "train_datagen = ImageDataGenerator(\n",
    "    rescale=1.0/255.0,  # Reescalar los valores de los píxeles al rango [0, 1]\n",
    "    rotation_range=40,  # Rango de ángulos aleatorios de rotación\n",
    "    width_shift_range=0.2,  # Rango de desplazamiento horizontal aleatorio\n",
    "    height_shift_range=0.2,  # Rango de desplazamiento vertical aleatorio\n",
    "    shear_range=0.2,  # Rango de deformación aleatoria\n",
    "    zoom_range=0.2,  # Rango de zoom aleatorio\n",
    "    horizontal_flip=True,  # Voltear horizontalmente las imágenes aleatoriamente\n",
    "    fill_mode='nearest'  # Modo de relleno para los nuevos píxeles creados durante las transformaciones\n",
    ")\n",
    "\n",
    "test_datagen = ImageDataGenerator(rescale=1.0/255.0,  # Reescalar los valores de los píxeles al rango [0, 1]\n",
    "    rotation_range=40,  # Rango de ángulos aleatorios de rotación\n",
    "    width_shift_range=0.2,  # Rango de desplazamiento horizontal aleatorio\n",
    "    height_shift_range=0.2,  # Rango de desplazamiento vertical aleatorio\n",
    "    shear_range=0.2,  # Rango de deformación aleatoria\n",
    "    zoom_range=0.2,  # Rango de zoom aleatorio\n",
    "    horizontal_flip=True,  # Voltear horizontalmente las imágenes aleatoriamente\n",
    "    fill_mode='nearest'  # Modo de relleno para los nuevos píxeles creados durante las transformaciones\n",
    ")\n",
    "\n",
    "# Crear un generador de datos para el conjunto de entrenamiento\n",
    "train_generator = train_datagen.flow_from_directory(\n",
    "    train_dir,  # Directorio de entrenamiento\n",
    "    target_size=(150, 150),  # Tamaño de las imágenes de entrada\n",
    "    batch_size=20,  # Tamaño del lote\n",
    "    class_mode='binary'  # Modo de clasificación binaria\n",
    ")\n",
    "\n",
    "validation_generator = test_datagen.flow_from_directory(\n",
    "    validation_dir,\n",
    "    target_size=(150,150),\n",
    "    batch_size=20,\n",
    "    class_mode='binary')\n",
    "\n",
    "# Definición del modelo con capa de dropout\n",
    "model = Sequential()\n",
    "model.add(Conv2D(32, (3,3), activation='relu', input_shape=(150,150,3)))\n",
    "model.add(MaxPooling2D((2,2)))\n",
    "model.add(Conv2D(64, (3,3), activation='relu'))\n",
    "model.add(MaxPooling2D((2,2)))\n",
    "model.add(Conv2D(128, (3,3), activation='relu'))\n",
    "model.add(MaxPooling2D((2,2)))\n",
    "model.add(Conv2D(128, (3,3), activation='relu'))\n",
    "model.add(MaxPooling2D((2,2)))\n",
    "model.add(Flatten())\n",
    "model.add(Dropout(0.5))  # Capa de dropout del 50%\n",
    "model.add(Dense(512, activation='relu'))\n",
    "model.add(Dense(1, activation='sigmoid'))\n",
    "\n",
    "# Compilación del modelo\n",
    "model.compile(optimizer='rmsprop', loss='binary_crossentropy', metrics=['accuracy'])\n",
    "\n",
    "# Entrenamiento del modelo con generador de datos aumentados\n",
    "history = model.fit(train_generator, steps_per_epoch=100, epochs=30, validation_data=validation_generator, validation_steps=50)\n"
   ]
  },
  {
   "cell_type": "code",
   "execution_count": null,
   "id": "d19f43d9-ffdd-4d4f-ae22-b821f206eafe",
   "metadata": {},
   "outputs": [],
   "source": [
    "# Imprimir la precisión (accuracy) del conjunto de entrenamiento y validación\n",
    "print(\"Última precisión del conjunto de entrenamiento:\", history.history['accuracy'][-1])\n",
    "print(\"Última precisión del conjunto de validación:\", history.history['val_accuracy'][-1])\n",
    "\n",
    "# Imprimir la pérdida (loss) del conjunto de entrenamiento y validación\n",
    "print(\"Última pérdida del conjunto de entrenamiento:\", history.history['loss'][-1])\n",
    "print(\"Última pérdida del conjunto de validación:\", history.history['val_loss'][-1])\n"
   ]
  },
  {
   "cell_type": "code",
   "execution_count": null,
   "id": "81d1a5c4-b9b6-443f-8707-17a45316cc1e",
   "metadata": {},
   "outputs": [],
   "source": [
    "import matplotlib.pyplot as plt\n",
    "\n",
    "# Obtener las métricas de entrenamiento y validación\n",
    "train_loss = history.history['loss']\n",
    "train_accuracy = history.history['accuracy']\n",
    "val_loss = history.history['val_loss']\n",
    "val_accuracy = history.history['val_accuracy']\n",
    "\n",
    "# Generar gráfica de pérdida\n",
    "plt.plot(range(1, len(train_loss) + 1), train_loss, label='Training Loss')\n",
    "plt.plot(range(1, len(val_loss) + 1), val_loss, label='Validation Loss')\n",
    "plt.title('Loss')\n",
    "plt.xlabel('Epochs')\n",
    "plt.ylabel('Loss')\n",
    "plt.legend()\n",
    "plt.show()\n",
    "\n",
    "# Generar gráfica de precisión\n",
    "plt.plot(range(1, len(train_accuracy) + 1), train_accuracy, label='Training Accuracy')\n",
    "plt.plot(range(1, len(val_accuracy) + 1), val_accuracy, label='Validation Accuracy')\n",
    "plt.title('Accuracy')\n",
    "plt.xlabel('Epochs')\n",
    "plt.ylabel('Accuracy')\n",
    "plt.legend()\n",
    "plt.show()\n"
   ]
  }
 ],
 "metadata": {
  "kernelspec": {
   "display_name": "Python 3 (ipykernel)",
   "language": "python",
   "name": "python3"
  },
  "language_info": {
   "codemirror_mode": {
    "name": "ipython",
    "version": 3
   },
   "file_extension": ".py",
   "mimetype": "text/x-python",
   "name": "python",
   "nbconvert_exporter": "python",
   "pygments_lexer": "ipython3",
   "version": "3.10.9"
  }
 },
 "nbformat": 4,
 "nbformat_minor": 5
}
